{
  "nbformat": 4,
  "nbformat_minor": 0,
  "metadata": {
    "colab": {
      "provenance": [],
      "authorship_tag": "ABX9TyOCNCilv54EKhsWKvkTdwZG",
      "include_colab_link": true
    },
    "kernelspec": {
      "name": "python3",
      "display_name": "Python 3"
    },
    "language_info": {
      "name": "python"
    }
  },
  "cells": [
    {
      "cell_type": "markdown",
      "metadata": {
        "id": "view-in-github",
        "colab_type": "text"
      },
      "source": [
        "<a href=\"https://colab.research.google.com/github/Sujoy-004/Chat-Analyzer-Pro/blob/main/notebooks/03_sentiment_emotion.ipynb\" target=\"_parent\"><img src=\"https://colab.research.google.com/assets/colab-badge.svg\" alt=\"Open In Colab\"/></a>"
      ]
    },
    {
      "cell_type": "markdown",
      "source": [
        "## Cell 1 : verify environment and available data"
      ],
      "metadata": {
        "id": "4-q18Pj3mWxv"
      }
    },
    {
      "cell_type": "code",
      "source": [
        "import pandas as pd\n",
        "import numpy as np\n",
        "import sys\n",
        "import os\n",
        "from pathlib import Path"
      ],
      "metadata": {
        "id": "XCQUI_euu5TE"
      },
      "execution_count": null,
      "outputs": []
    },
    {
      "cell_type": "code",
      "source": [
        "try:\n",
        "    # Try to load your processed data\n",
        "    df = pd.read_csv('https://raw.githubusercontent.com/Sujoy-004/Chat-Analyzer-Pro/refs/heads/main/data/processed/example_parsed.csv')\n",
        "    print(\"✅ Successfully loaded your processed chat data!\")\n",
        "    print(f\"Data shape: {df.shape}\")\n",
        "    print(f\"Columns: {list(df.columns)}\")\n",
        "    print()\n",
        "    print(\"Sample data:\")\n",
        "    print(df.head(3).to_string())\n",
        "    print()\n",
        "    print(\"Data types:\")\n",
        "    print(df.dtypes)\n",
        "    print()\n",
        "\n",
        "except Exception as e:\n",
        "    print(f\"❌ Error loading data: {e}\")"
      ],
      "metadata": {
        "id": "zcPKr_mvu_e_"
      },
      "execution_count": null,
      "outputs": []
    },
    {
      "cell_type": "code",
      "source": [
        "# Check for VADER\n",
        "try:\n",
        "    from vaderSentiment.vaderSentiment import SentimentIntensityAnalyzer\n",
        "    print(\"✅ VADER Sentiment is available\")\n",
        "    vader_available = True\n",
        "except ImportError:\n",
        "    print(\"❌ VADER Sentiment not installed\")\n",
        "    vader_available = False"
      ],
      "metadata": {
        "id": "r6sRjVKWvCLw"
      },
      "execution_count": null,
      "outputs": []
    },
    {
      "cell_type": "code",
      "source": [
        "# Check for TextBlob\n",
        "try:\n",
        "    from textblob import TextBlob\n",
        "    print(\"✅ TextBlob is available\")\n",
        "    textblob_available = True\n",
        "except ImportError:\n",
        "    print(\"❌ TextBlob not installed\")\n",
        "    textblob_available = False"
      ],
      "metadata": {
        "id": "cdNd7kCZvGE5"
      },
      "execution_count": null,
      "outputs": []
    },
    {
      "cell_type": "code",
      "source": [
        "# Check for transformers (HuggingFace)\n",
        "try:\n",
        "    from transformers import pipeline\n",
        "    print(\"✅ Transformers (HuggingFace) is available\")\n",
        "    transformers_available = True\n",
        "except ImportError:\n",
        "    print(\"❌ Transformers not installed\")\n",
        "    transformers_available = False"
      ],
      "metadata": {
        "id": "J2XWR7XVvLAA"
      },
      "execution_count": null,
      "outputs": []
    },
    {
      "cell_type": "code",
      "source": [
        "# Check for matplotlib and seaborn for visualization\n",
        "try:\n",
        "    import matplotlib.pyplot as plt\n",
        "    import seaborn as sns\n",
        "    print(\"✅ Matplotlib and Seaborn available\")\n",
        "    viz_available = True\n",
        "except ImportError:\n",
        "    print(\"❌ Visualization libraries not available\")\n",
        "    viz_available = False"
      ],
      "metadata": {
        "id": "y4RoDHjIvPQ2"
      },
      "execution_count": null,
      "outputs": []
    },
    {
      "cell_type": "markdown",
      "source": [
        "## Cell 2: Install VADER and Import Required Libraries"
      ],
      "metadata": {
        "id": "y8U1YGgQnJNz"
      }
    },
    {
      "cell_type": "code",
      "source": [
        "print(\"Installing VADER Sentiment...\")\n",
        "!pip install vaderSentiment\n",
        "print(\"✅ VADER Sentiment installed\")\n",
        "\n",
        "import pandas as pd\n",
        "import numpy as np\n",
        "import matplotlib.pyplot as plt\n",
        "import seaborn as sns\n",
        "from datetime import datetime\n",
        "import warnings\n",
        "warnings.filterwarnings('ignore')"
      ],
      "metadata": {
        "id": "bf62HoxHvcnq"
      },
      "execution_count": null,
      "outputs": []
    },
    {
      "cell_type": "code",
      "source": [
        "# Test VADER\n",
        "try:\n",
        "    from vaderSentiment.vaderSentiment import SentimentIntensityAnalyzer\n",
        "    vader_analyzer = SentimentIntensityAnalyzer()\n",
        "    test_text = \"I love this amazing day!\"\n",
        "    vader_result = vader_analyzer.polarity_scores(test_text)\n",
        "    print(\"✅ VADER working:\", vader_result)\n",
        "except Exception as e:\n",
        "    print(f\"❌ VADER error: {e}\")"
      ],
      "metadata": {
        "id": "y2dlGvS0vgP_"
      },
      "execution_count": null,
      "outputs": []
    },
    {
      "cell_type": "code",
      "source": [
        "# Test TextBlob\n",
        "try:\n",
        "    from textblob import TextBlob\n",
        "    blob = TextBlob(test_text)\n",
        "    print(\"✅ TextBlob working - Polarity:\", blob.sentiment.polarity, \"Subjectivity:\", blob.sentiment.subjectivity)\n",
        "except Exception as e:\n",
        "    print(f\"❌ TextBlob error: {e}\")"
      ],
      "metadata": {
        "id": "4x6XWI-NvjZW"
      },
      "execution_count": null,
      "outputs": []
    },
    {
      "cell_type": "code",
      "source": [
        "# Test Transformers (HuggingFace) - this will take time to download\n",
        "try:\n",
        "    from transformers import pipeline\n",
        "    # We'll use a lightweight model for sentiment\n",
        "    print(\"✅ Loading HuggingFace sentiment pipeline...\")\n",
        "    hf_analyzer = pipeline(\"sentiment-analysis\",\n",
        "                          model=\"cardiffnlp/twitter-roberta-base-sentiment-latest\",\n",
        "                          return_all_scores=True)\n",
        "    hf_result = hf_analyzer(test_text)\n",
        "    print(\"✅ HuggingFace working:\", hf_result)\n",
        "except Exception as e:\n",
        "    print(f\"❌ HuggingFace error: {e}\")\n",
        "    print(\"Trying alternative model...\")\n",
        "    try:\n",
        "        hf_analyzer = pipeline(\"sentiment-analysis\", return_all_scores=True)\n",
        "        hf_result = hf_analyzer(test_text)\n",
        "        print(\"✅ HuggingFace (default) working:\", hf_result)\n",
        "    except Exception as e2:\n",
        "        print(f\"❌ HuggingFace (default) error: {e2}\")"
      ],
      "metadata": {
        "id": "TeDR-dfWvm5I"
      },
      "execution_count": null,
      "outputs": []
    },
    {
      "cell_type": "code",
      "source": [
        "df = pd.read_csv('https://raw.githubusercontent.com/Sujoy-004/Chat-Analyzer-Pro/refs/heads/main/data/processed/example_parsed.csv')\n",
        "df['datetime'] = pd.to_datetime(df['datetime'])\n",
        "\n",
        "print(f\"\\n📊 Analyzing {len(df)} messages from {df['sender'].unique()}\")\n",
        "print(f\"Date range: {df['datetime'].min()} to {df['datetime'].max()}\")"
      ],
      "metadata": {
        "id": "LsfEZuFwvtqF"
      },
      "execution_count": null,
      "outputs": []
    },
    {
      "cell_type": "markdown",
      "source": [
        "##  Cell 3: Sentiment Analysis Functions"
      ],
      "metadata": {
        "id": "Toh3VMEyoKrg"
      }
    },
    {
      "cell_type": "code",
      "source": [
        "import pandas as pd\n",
        "import numpy as np\n",
        "import matplotlib.pyplot as plt\n",
        "import seaborn as sns\n",
        "from datetime import datetime, timedelta\n",
        "import warnings\n",
        "warnings.filterwarnings('ignore')"
      ],
      "metadata": {
        "id": "2bP8bOFRv0lp"
      },
      "execution_count": null,
      "outputs": []
    },
    {
      "cell_type": "code",
      "source": [
        "print(\"📥 Downloading sentiment.py from your repository...\")\n",
        "import requests\n",
        "\n",
        "# Load the sentiment analysis module from GitHub\n",
        "sentiment_code = requests.get('https://raw.githubusercontent.com/Sujoy-004/Chat-Analyzer-Pro/refs/heads/main/src/analysis/sentiment.py').text\n",
        "\n",
        "# Execute the code in the global scope to make functions accessible\n",
        "exec(sentiment_code, globals())"
      ],
      "metadata": {
        "id": "JQnmDLgev4OG"
      },
      "execution_count": null,
      "outputs": []
    },
    {
      "cell_type": "code",
      "source": [
        "print(\"✅ sentiment.py module loaded successfully!\")\n",
        "print(\"🔧 Available functions:\")\n",
        "print(\"  ✅ analyze_vader()\")\n",
        "print(\"  ✅ analyze_textblob()\")\n",
        "print(\"  ✅ analyze_huggingface()\")\n",
        "print(\"  ✅ add_sentiment_analysis()\")\n",
        "print(\"  ✅ get_sentiment_summary()\")\n",
        "print(\"  ✅ plot_sentiment_analysis()\")\n",
        "print(\"  ✅ find_extreme_messages()\")\n",
        "print(\"  ✅ quick_sentiment_analysis()\")\n",
        "print(\"  ✅ initialize_analyzers()\")"
      ],
      "metadata": {
        "id": "bkrCyVLov80n"
      },
      "execution_count": null,
      "outputs": []
    },
    {
      "cell_type": "code",
      "source": [
        "# Load your test data\n",
        "df = pd.read_csv('https://raw.githubusercontent.com/Sujoy-004/Chat-Analyzer-Pro/refs/heads/main/data/processed/example_parsed.csv')\n",
        "df['datetime'] = pd.to_datetime(df['datetime'])\n",
        "\n",
        "print(f\"\\n📊 Testing on {len(df)} messages from {df['sender'].unique()}\")\n",
        "\n",
        "# Initialize analyzers first before testing individual functions\n",
        "print(\"\\n🔧 Initializing analyzers for individual function testing...\")\n",
        "initialize_analyzers()"
      ],
      "metadata": {
        "id": "Ieb9HBGBwFrG"
      },
      "execution_count": null,
      "outputs": []
    },
    {
      "cell_type": "code",
      "source": [
        "sample_messages = [\n",
        "    \"Merry Christmas! 🎄🎅\",\n",
        "    \"That sounds wonderful! I'm cooking dinner for everyone today\",\n",
        "    \"<Media omitted>\",\n",
        "    \"Thanks for sharing your day with me 😊\",\n",
        "    \"Good morning! How was your evening?\"\n",
        "]"
      ],
      "metadata": {
        "id": "D0R6EIRMwvYv"
      },
      "execution_count": null,
      "outputs": []
    },
    {
      "cell_type": "code",
      "source": [
        "for i, msg in enumerate(sample_messages, 1):\n",
        "    print(f\"\\n📝 Message {i}: '{msg}'\")\n",
        "\n",
        "    # Test VADER\n",
        "    vader_result = analyze_vader(msg)\n",
        "    print(f\"  🔵 VADER: {vader_result['compound']:.3f} ({categorize_sentiment(vader_result['compound'])})\")\n",
        "    print(f\"      Details: pos={vader_result['pos']:.3f}, neu={vader_result['neu']:.3f}, neg={vader_result['neg']:.3f}\")\n",
        "\n",
        "    # Test TextBlob\n",
        "    tb_result = analyze_textblob(msg)\n",
        "    print(f\"  🟠 TextBlob: {tb_result['polarity']:.3f} ({categorize_sentiment(tb_result['polarity'])})\")\n",
        "    print(f\"      Subjectivity: {tb_result['subjectivity']:.3f}\")\n",
        "\n",
        "    # Test HuggingFace\n",
        "    hf_result = analyze_huggingface(msg)\n",
        "    dominant = max(hf_result, key=hf_result.get)\n",
        "    print(f\"  🟢 HuggingFace: {dominant} (confidence: {hf_result[dominant]:.3f})\")\n",
        "    print(f\"      All scores: {hf_result}\")"
      ],
      "metadata": {
        "id": "w-pbb8S-wxBA"
      },
      "execution_count": null,
      "outputs": []
    },
    {
      "cell_type": "code",
      "source": [
        "# Test the main analysis function on a small subset\n",
        "print(\"Testing add_sentiment_analysis() on first 5 messages...\")\n",
        "test_df = df.head(5).copy()\n",
        "test_df_analyzed = add_sentiment_analysis(test_df, initialize_first=True)\n",
        "\n",
        "print(f\"\\n📊 Results Summary:\")\n",
        "print(f\"  Original columns: {len(test_df.columns)}\")\n",
        "print(f\"  After analysis: {len(test_df_analyzed.columns)}\")\n",
        "print(f\"  New columns added: {len(test_df_analyzed.columns) - len(test_df.columns)}\")"
      ],
      "metadata": {
        "id": "kuFZR7rCxIvI"
      },
      "execution_count": null,
      "outputs": []
    },
    {
      "cell_type": "code",
      "source": [
        "# Show the new columns\n",
        "new_columns = [col for col in test_df_analyzed.columns if col not in test_df.columns]\n",
        "print(f\"\\n✅ New sentiment columns:\")\n",
        "for col in new_columns:\n",
        "    print(f\"    - {col}\")"
      ],
      "metadata": {
        "id": "ONguJ6XFxWTO"
      },
      "execution_count": null,
      "outputs": []
    },
    {
      "cell_type": "code",
      "source": [
        "# Test summary function\n",
        "print(f\"\\n📝 Testing get_sentiment_summary()...\")\n",
        "summary = get_sentiment_summary(test_df_analyzed)\n",
        "print(f\"  Summary keys: {list(summary.keys())}\")\n",
        "print(f\"  Sentiment distribution: {summary.get('sentiment_distribution', 'N/A')}\")"
      ],
      "metadata": {
        "id": "RW5-_hSuxbdF"
      },
      "execution_count": null,
      "outputs": []
    },
    {
      "cell_type": "code",
      "source": [
        "# Test extreme messages function\n",
        "print(f\"\\n🎭 Testing find_extreme_messages()...\")\n",
        "extremes = find_extreme_messages(test_df_analyzed, n=2)\n",
        "print(f\"  Found {len(extremes['most_positive'])} most positive messages\")\n",
        "print(f\"  Found {len(extremes['most_negative'])} most negative messages\")"
      ],
      "metadata": {
        "id": "YyEvmnj7xeks"
      },
      "execution_count": null,
      "outputs": []
    },
    {
      "cell_type": "markdown",
      "source": [
        "## Cell 4: Full Sentiment Analysis and Visualization"
      ],
      "metadata": {
        "id": "SW3ORoLOoiXf"
      }
    },
    {
      "cell_type": "code",
      "source": [
        "import requests\n",
        "sentiment_code = requests.get('https://raw.githubusercontent.com/Sujoy-004/Chat-Analyzer-Pro/refs/heads/main/src/analysis/sentiment.py').text\n",
        "exec(sentiment_code, globals())\n",
        "\n",
        "print(\"✅ sentiment.py module loaded successfully!\")"
      ],
      "metadata": {
        "id": "o_wDyHdFwFEV"
      },
      "execution_count": null,
      "outputs": []
    },
    {
      "cell_type": "code",
      "source": [
        "# Load your data\n",
        "df = pd.read_csv('https://raw.githubusercontent.com/Sujoy-004/Chat-Analyzer-Pro/refs/heads/main/data/processed/example_parsed.csv')\n",
        "df['datetime'] = pd.to_datetime(df['datetime'])\n",
        "\n",
        "print(f\"📊 Analyzing {len(df)} messages from {df['sender'].unique()}\")\n",
        "print(f\"Date range: {df['datetime'].min()} to {df['datetime'].max()}\")"
      ],
      "metadata": {
        "id": "la2HaWLZxwzX"
      },
      "execution_count": null,
      "outputs": []
    },
    {
      "cell_type": "code",
      "source": [
        "df_with_sentiment, summary = quick_sentiment_analysis(df, plot=True)\n",
        "\n",
        "print(\"\\n\" + \"=\"*60)\n",
        "print(\"📈 SENTIMENT ANALYSIS RESULTS\")\n",
        "print(\"=\"*60)\n",
        "\n",
        "print(f\"Total Messages: {summary['total_messages']}\")\n",
        "print(f\"\\n🎭 Overall Sentiment Distribution:\")\n",
        "for sentiment, count in summary['sentiment_distribution'].items():\n",
        "    percentage = (count / summary['total_messages']) * 100\n",
        "    print(f\"  {sentiment}: {count} messages ({percentage:.1f}%)\")\n",
        "\n",
        "print(f\"\\n📊 Average Sentiment Scores:\")\n",
        "for score_type, scores in summary['average_scores'].items():\n",
        "    print(f\"  {score_type}: {scores['mean']:.3f} (min: {scores['min']:.3f}, max: {scores['max']:.3f})\")\n",
        "\n",
        "print(f\"\\n👥 Sentiment by Sender:\")\n",
        "for sender, data in summary['by_sender'].items():\n",
        "    print(f\"  {sender}:\")\n",
        "    print(f\"    Messages: {data['message_count']}\")\n",
        "    for score_type, avg_score in data['avg_scores'].items():\n",
        "        print(f\"    Avg {score_type}: {avg_score:.3f}\")\n",
        "    sentiment_dist = data['sentiment_distribution']\n",
        "    for sent, count in sentiment_dist.items():\n",
        "        pct = (count / data['message_count']) * 100\n",
        "        print(f\"    {sent}: {count} ({pct:.1f}%)\")\n",
        "    print()"
      ],
      "metadata": {
        "id": "R5c9xs35yJrF"
      },
      "execution_count": null,
      "outputs": []
    },
    {
      "cell_type": "code",
      "source": [
        "extreme_messages = find_extreme_messages(df_with_sentiment, n=2)\n",
        "\n",
        "print(\"\\n\" + \"=\"*60)\n",
        "print(\"🔍 EXTREME MESSAGES ANALYSIS\")\n",
        "print(\"=\"*60)\n",
        "\n",
        "print(\"🟢 MOST POSITIVE MESSAGES:\")\n",
        "for i, msg_data in enumerate(extreme_messages['most_positive'], 1):\n",
        "    print(f\"  {i}. Sender: {msg_data['sender']}\")\n",
        "    print(f\"     Message: '{msg_data['message']}'\")\n",
        "    print(f\"     VADER Score: {msg_data['vader_score']:.3f}\")\n",
        "    print(f\"     Sentiment: {msg_data['sentiment']}\")\n",
        "    print()\n",
        "\n",
        "print(\"🔴 MOST NEGATIVE MESSAGES:\")\n",
        "for i, msg_data in enumerate(extreme_messages['most_negative'], 1):\n",
        "    print(f\"  {i}. Sender: {msg_data['sender']}\")\n",
        "    print(f\"     Message: '{msg_data['message']}'\")\n",
        "    print(f\"     VADER Score: {msg_data['vader_score']:.3f}\")\n",
        "    print(f\"     Sentiment: {msg_data['sentiment']}\")\n",
        "    print()"
      ],
      "metadata": {
        "id": "HvuvX3jwyRnA"
      },
      "execution_count": null,
      "outputs": []
    },
    {
      "cell_type": "code",
      "source": [
        "# Show final data structure\n",
        "print(\"📋 FINAL DATA STRUCTURE:\")\n",
        "print(f\"Shape: {df_with_sentiment.shape}\")\n",
        "print(f\"Sentiment columns added by your module:\")\n",
        "sentiment_columns = [col for col in df_with_sentiment.columns if any(word in col.lower()\n",
        "                    for word in ['vader', 'textblob', 'hf', 'sentiment'])]\n",
        "for col in sentiment_columns:\n",
        "    print(f\"  ✅ {col}\")"
      ],
      "metadata": {
        "id": "jJa6ZLAlyauf"
      },
      "execution_count": null,
      "outputs": []
    },
    {
      "cell_type": "markdown",
      "source": [
        "## Cell 5: Install Additional Dependencies for Emotion Analysis"
      ],
      "metadata": {
        "id": "fEM7v45ItRKn"
      }
    },
    {
      "cell_type": "code",
      "source": [
        "print(\"📦 Installing emotion analysis dependencies...\")\n",
        "print(\"This may take a few minutes...\")\n",
        "!pip install -q transformers torch\n",
        "\n",
        "print(\"✅ Dependencies installed!\")\n",
        "\n",
        "# Verify installation\n",
        "try:\n",
        "    import transformers\n",
        "    import torch\n",
        "    print(f\"✅ Transformers version: {transformers.__version__}\")\n",
        "    print(f\"✅ PyTorch version: {torch.__version__}\")\n",
        "except Exception as e:\n",
        "    print(f\"❌ Installation issue: {e}\")"
      ],
      "metadata": {
        "id": "A0ZjHfyctayW"
      },
      "execution_count": null,
      "outputs": []
    },
    {
      "cell_type": "markdown",
      "source": [
        "## Cell 6: Load Emotion Analysis Module"
      ],
      "metadata": {
        "id": "3gNeRVgGvSQA"
      }
    },
    {
      "cell_type": "code",
      "source": [
        "print(\"📥 Loading emotion analysis module...\")\n",
        "import requests\n",
        "\n",
        "emotion_code = requests.get(\n",
        "    'https://raw.githubusercontent.com/Sujoy-004/Chat-Analyzer-Pro/refs/heads/main/src/analysis/emotion.py'\n",
        ").text\n",
        "\n",
        "# Execute the code to make functions available\n",
        "exec(emotion_code, globals())\n",
        "\n",
        "print(\"\\n✅ emotion.py module loaded successfully!\")\n",
        "print(\"🔧 Available classes and functions:\")\n",
        "print(\"  ✅ EmotionAnalyzer (main class)\")\n",
        "print(\"  ✅ quick_emotion_analysis()\")\n",
        "print(\"  ✅ plot_emotion_analysis()\")\n",
        "print(\"  ✅ combine_sentiment_emotion()\")"
      ],
      "metadata": {
        "id": "UiJcEtO6vRwD"
      },
      "execution_count": null,
      "outputs": []
    },
    {
      "cell_type": "markdown",
      "source": [
        "## Cell 7: Initialize Emotion Analyzer and Test"
      ],
      "metadata": {
        "id": "JxM2orufvZUQ"
      }
    },
    {
      "cell_type": "code",
      "source": [
        "print(\"🎭 Initializing Emotion Analyzer...\")\n",
        "emotion_analyzer = EmotionAnalyzer()\n",
        "\n",
        "# Test on sample messages\n",
        "sample_messages = [\n",
        "    \"I'm so happy and excited about this! 🎉\",\n",
        "    \"This makes me really sad and disappointed 😢\",\n",
        "    \"I'm furious about what happened!\",\n",
        "    \"That's absolutely terrifying!\",\n",
        "    \"Wow! I never expected this!\",\n",
        "    \"I love you so much ❤️\"\n",
        "]\n",
        "\n",
        "print(\"\\n📝 Testing emotion detection on sample messages:\\n\")\n",
        "for i, msg in enumerate(sample_messages, 1):\n",
        "    emotions = emotion_analyzer.analyze_single_message(msg)\n",
        "    dominant = max(emotions, key=emotions.get)\n",
        "    confidence = emotions[dominant]\n",
        "\n",
        "    print(f\"{i}. '{msg}'\")\n",
        "    print(f\"   🎭 Dominant: {dominant.upper()} (confidence: {confidence:.2%})\")\n",
        "    print(f\"   📊 All scores: {', '.join([f'{k}: {v:.3f}' for k, v in emotions.items()])}\\n\")"
      ],
      "metadata": {
        "id": "3jayechFvdoK"
      },
      "execution_count": null,
      "outputs": []
    },
    {
      "cell_type": "markdown",
      "source": [
        "## Cell 8: Analyze Emotions in Your Chat Data"
      ],
      "metadata": {
        "id": "_YyGKQuzxKQl"
      }
    },
    {
      "cell_type": "code",
      "source": [
        "df = pd.read_csv('https://raw.githubusercontent.com/Sujoy-004/Chat-Analyzer-Pro/refs/heads/main/data/processed/example_parsed.csv')\n",
        "df['datetime'] = pd.to_datetime(df['datetime'])\n",
        "\n",
        "print(f\"🎭 Analyzing emotions in {len(df)} messages...\")\n",
        "\n",
        "# Perform emotion analysis\n",
        "df_emotions = emotion_analyzer.analyze_emotions(df, text_column='message')\n",
        "\n",
        "print(\"\\n✅ Emotion analysis complete!\")\n",
        "print(f\"📊 Added columns: {[col for col in df_emotions.columns if col.startswith('emotion_')]}\")\n",
        "print(f\"\\nFirst few results:\")\n",
        "display(df_emotions[['sender', 'message', 'dominant_emotion', 'emotion_confidence']].head(10))"
      ],
      "metadata": {
        "id": "axqVm35CxMZI"
      },
      "execution_count": null,
      "outputs": []
    },
    {
      "cell_type": "markdown",
      "source": [
        "## Cell 9: Emotion Analysis Summary Statistics"
      ],
      "metadata": {
        "id": "L1P_ZHCtxSad"
      }
    },
    {
      "cell_type": "code",
      "source": [
        "summary = emotion_analyzer.get_emotion_summary(df_emotions)\n",
        "\n",
        "print(\"=\"*70)\n",
        "print(\"📊 EMOTION ANALYSIS SUMMARY\")\n",
        "print(\"=\"*70)\n",
        "\n",
        "print(f\"\\n📈 Total Messages: {summary['total_messages']}\")\n",
        "\n",
        "print(f\"\\n🎭 Emotion Distribution:\")\n",
        "for emotion, count in summary['emotion_distribution'].items():\n",
        "    percentage = (count / summary['total_messages']) * 100\n",
        "    bar = '█' * int(percentage / 2)\n",
        "    print(f\"  {emotion.capitalize():12s}: {count:3d} messages ({percentage:5.1f}%) {bar}\")\n",
        "\n",
        "print(f\"\\n📊 Average Emotion Scores:\")\n",
        "for emotion, score in summary['average_emotion_scores'].items():\n",
        "    print(f\"  {emotion.capitalize():12s}: {score:.4f}\")\n",
        "\n",
        "if 'by_sender' in summary:\n",
        "    print(f\"\\n👥 Emotion Analysis by Sender:\")\n",
        "    for sender, data in summary['by_sender'].items():\n",
        "        print(f\"\\n  {sender} ({data['message_count']} messages):\")\n",
        "        print(f\"    Dominant emotions: {data['dominant_emotions']}\")\n",
        "        print(f\"    Top 3 emotion scores:\")\n",
        "        top_emotions = sorted(data['avg_emotion_scores'].items(),\n",
        "                            key=lambda x: x[1], reverse=True)[:3]\n",
        "        for emotion, score in top_emotions:\n",
        "            print(f\"      {emotion}: {score:.4f}\")"
      ],
      "metadata": {
        "id": "W8qlSC91xbjC"
      },
      "execution_count": null,
      "outputs": []
    },
    {
      "cell_type": "markdown",
      "source": [
        "## Cell 10: Find Most Emotional Messages"
      ],
      "metadata": {
        "id": "64gKGKs_xvu5"
      }
    },
    {
      "cell_type": "code",
      "source": [
        "print(\"🎭 MOST EMOTIONAL MESSAGES\\n\")\n",
        "\n",
        "emotions_to_check = ['joy', 'sadness', 'anger', 'love']\n",
        "\n",
        "for emotion in emotions_to_check:\n",
        "    print(f\"\\n{'='*70}\")\n",
        "    print(f\"💬 Top 3 messages with highest {emotion.upper()}:\")\n",
        "    print('='*70)\n",
        "\n",
        "    top_messages = emotion_analyzer.find_most_emotional_messages(\n",
        "        df_emotions, emotion=emotion, n=3\n",
        "    )\n",
        "\n",
        "    for idx, row in top_messages.iterrows():\n",
        "        print(f\"\\n{row['sender']} ({row['datetime']}):\")\n",
        "        print(f\"  Message: {row['message']}\")\n",
        "        print(f\"  {emotion.capitalize()} score: {row[f'emotion_{emotion}']:.4f}\")\n",
        "        print(f\"  Dominant: {row['dominant_emotion']}\")\n"
      ],
      "metadata": {
        "id": "OgmEZ1MLxxTr"
      },
      "execution_count": null,
      "outputs": []
    },
    {
      "cell_type": "markdown",
      "source": [
        "## Cell 11: Emotion Timeline Visualization"
      ],
      "metadata": {
        "id": "Hfqbv3lfx2BL"
      }
    },
    {
      "cell_type": "code",
      "source": [
        "import matplotlib.pyplot as plt\n",
        "import seaborn as sns\n",
        "\n",
        "# Get emotion timeline\n",
        "timeline = emotion_analyzer.get_emotion_timeline(df_emotions)\n",
        "\n",
        "# Create visualization\n",
        "fig, ax = plt.subplots(figsize=(14, 6))\n",
        "\n",
        "for emotion in emotion_analyzer.emotions:\n",
        "    ax.plot(timeline['date'], timeline[f'emotion_{emotion}'],\n",
        "            marker='o', label=emotion.capitalize(), linewidth=2.5, markersize=8)\n",
        "\n",
        "ax.set_title('🎭 Emotion Evolution Over Time', fontsize=16, fontweight='bold', pad=20)\n",
        "ax.set_xlabel('Date', fontsize=12, fontweight='bold')\n",
        "ax.set_ylabel('Average Emotion Score', fontsize=12, fontweight='bold')\n",
        "ax.legend(loc='upper left', fontsize=10, framealpha=0.9)\n",
        "ax.grid(True, alpha=0.3, linestyle='--')\n",
        "plt.xticks(rotation=45, ha='right')\n",
        "plt.tight_layout()\n",
        "plt.show()"
      ],
      "metadata": {
        "id": "s_ZETdj4x5xj"
      },
      "execution_count": null,
      "outputs": []
    },
    {
      "cell_type": "markdown",
      "source": [
        "## Cell 12: Combined Sentiment & Emotion Dashboard"
      ],
      "metadata": {
        "id": "dEo2UhVYyDPF"
      }
    },
    {
      "cell_type": "code",
      "source": [
        "# Generate full emotion visualization dashboard\n",
        "plot_emotion_analysis(df_emotions, summary)"
      ],
      "metadata": {
        "id": "QICoRRLWyEoW"
      },
      "execution_count": null,
      "outputs": []
    },
    {
      "cell_type": "markdown",
      "source": [
        "## Cell 13: Combine with Previous Sentiment Analysis"
      ],
      "metadata": {
        "id": "6PwZ2Tv6yU4l"
      }
    },
    {
      "cell_type": "code",
      "source": [
        "if 'vader_compound' in df.columns or 'df_with_sentiment' in locals():\n",
        "    print(\"🔄 Combining sentiment and emotion analysis...\")\n",
        "\n",
        "    # Use the sentiment dataframe if available\n",
        "    if 'df_with_sentiment' in locals():\n",
        "        df_complete = combine_sentiment_emotion(df_with_sentiment, df_emotions)\n",
        "    else:\n",
        "        # Reload sentiment if needed\n",
        "        print(\"  Loading sentiment data...\")\n",
        "        # Re-run sentiment analysis\n",
        "        df_with_sentiment, sent_summary = quick_sentiment_analysis(df, plot=False)\n",
        "        df_complete = combine_sentiment_emotion(df_with_sentiment, df_emotions)\n",
        "\n",
        "    print(\"✅ Combined analysis complete!\")\n",
        "    print(f\"   Total columns: {len(df_complete.columns)}\")\n",
        "    print(f\"   Sentiment columns: {[col for col in df_complete.columns if 'vader' in col or 'textblob' in col or 'hf_' in col]}\")\n",
        "    print(f\"   Emotion columns: {[col for col in df_complete.columns if 'emotion_' in col]}\")\n",
        "\n",
        "    # Show sample\n",
        "    print(\"\\n📊 Sample combined analysis:\")\n",
        "    display(df_complete[['sender', 'message', 'consensus_sentiment',\n",
        "                         'dominant_emotion', 'emotion_confidence']].head(10))\n",
        "\n",
        "else:\n",
        "    print(\"ℹ️  No sentiment analysis found. Run sentiment analysis first to combine results.\")"
      ],
      "metadata": {
        "id": "sPCei5sMyT1r"
      },
      "execution_count": null,
      "outputs": []
    },
    {
      "cell_type": "markdown",
      "source": [
        "## Cell 14: Advanced Emotion Insights"
      ],
      "metadata": {
        "id": "OK6BveXRjWVu"
      }
    },
    {
      "cell_type": "code",
      "source": [
        "for sender in df_emotions['sender'].unique():\n",
        "    sender_df = df_emotions[df_emotions['sender'] == sender]\n",
        "    emotion_std = sender_df[[f'emotion_{e}' for e in emotion_analyzer.emotions]].std().mean()\n",
        "\n",
        "    print(f\"\\n{sender}:\")\n",
        "    print(f\"  Emotion variability: {emotion_std:.4f} {'(Consistent)' if emotion_std < 0.15 else '(Variable)'}\")\n",
        "    print(f\"  Most common emotion: {sender_df['dominant_emotion'].mode()[0]}\")\n",
        "    print(f\"  Emotion diversity: {sender_df['dominant_emotion'].nunique()} different emotions\")"
      ],
      "metadata": {
        "id": "EbAwnxm7jXp-"
      },
      "execution_count": null,
      "outputs": []
    },
    {
      "cell_type": "code",
      "source": [
        "if 'vader_compound' in df_emotions.columns:\n",
        "    print(\"\\n\" + \"=\"*70)\n",
        "    print(\"🔗 Emotion-Sentiment Correlation\")\n",
        "    print(\"=\"*70)\n",
        "\n",
        "    # Calculate correlations\n",
        "    positive_emotions = ['joy', 'love', 'surprise']\n",
        "    negative_emotions = ['sadness', 'anger', 'fear']\n",
        "\n",
        "    pos_score = df_emotions[[f'emotion_{e}' for e in positive_emotions]].mean(axis=1)\n",
        "    neg_score = df_emotions[[f'emotion_{e}' for e in negative_emotions]].mean(axis=1)\n",
        "\n",
        "    corr_pos = pos_score.corr(df_emotions['vader_compound'])\n",
        "    corr_neg = neg_score.corr(df_emotions['vader_compound'])\n",
        "\n",
        "    print(f\"\\n  Positive emotions ↔ Sentiment: {corr_pos:.4f}\")\n",
        "    print(f\"  Negative emotions ↔ Sentiment: {corr_neg:.4f}\")\n",
        "    print(\"\\n  ✅ Analysis shows good alignment!\" if abs(corr_pos) > 0.5 else \"  ⚠️  Lower correlation detected\")"
      ],
      "metadata": {
        "id": "BqUA7VdHjqGl"
      },
      "execution_count": null,
      "outputs": []
    },
    {
      "cell_type": "code",
      "source": [
        "df_emotions_sorted = df_emotions.sort_values('datetime')\n",
        "response_count = 0\n",
        "for i in range(1, len(df_emotions_sorted)):\n",
        "    current = df_emotions_sorted.iloc[i]\n",
        "    previous = df_emotions_sorted.iloc[i-1]\n",
        "\n",
        "    if current['sender'] != previous['sender']:\n",
        "        if response_count < 5:  # Show first 5 response patterns\n",
        "            print(f\"\\n  {previous['sender']} ({previous['dominant_emotion']}):\")\n",
        "            print(f\"    → {current['sender']} responds with ({current['dominant_emotion']})\")\n",
        "            response_count += 1"
      ],
      "metadata": {
        "id": "yotD0fiOmXrr"
      },
      "execution_count": null,
      "outputs": []
    },
    {
      "cell_type": "markdown",
      "source": [
        "## Cell 15 : Export Results"
      ],
      "metadata": {
        "id": "IZL7DBFqtw0W"
      }
    },
    {
      "cell_type": "code",
      "source": [
        "import os\n",
        "\n",
        "print(\"💾 Saving emotion analysis results...\\n\")\n",
        "\n",
        "# Create output directory if it doesn't exist\n",
        "output_dir = 'emotion_analysis_results'\n",
        "os.makedirs(output_dir, exist_ok=True)"
      ],
      "metadata": {
        "id": "KklTlV7yt0xO"
      },
      "execution_count": null,
      "outputs": []
    },
    {
      "cell_type": "code",
      "source": [
        "# 1. Save full analysis\n",
        "output_file = f\"{output_dir}/chat_with_emotions.csv\"\n",
        "df_complete.to_csv(output_file, index=False)\n",
        "print(f\"✅ Full analysis saved to: {output_file}\")"
      ],
      "metadata": {
        "id": "FW006Y5Rt76-"
      },
      "execution_count": null,
      "outputs": []
    },
    {
      "cell_type": "code",
      "source": [
        "# 2. Save summary statistics\n",
        "summary_file = f\"{output_dir}/emotion_summary.txt\"\n",
        "with open(summary_file, 'w') as f:\n",
        "    f.write(\"EMOTION ANALYSIS SUMMARY\\n\")\n",
        "    f.write(\"=\"*70 + \"\\n\\n\")\n",
        "    f.write(f\"Total Messages: {summary['total_messages']}\\n\\n\")\n",
        "\n",
        "    f.write(\"Emotion Distribution:\\n\")\n",
        "    for emotion, count in summary['emotion_distribution'].items():\n",
        "        pct = (count / summary['total_messages']) * 100\n",
        "        f.write(f\"  {emotion.capitalize()}: {count} ({pct:.1f}%)\\n\")\n",
        "\n",
        "    f.write(\"\\nAverage Emotion Scores:\\n\")\n",
        "    for emotion, score in summary['average_emotion_scores'].items():\n",
        "        f.write(f\"  {emotion.capitalize()}: {score:.4f}\\n\")\n",
        "\n",
        "print(f\"✅ Summary saved to: {summary_file}\")"
      ],
      "metadata": {
        "id": "qCUWjONEuBA_"
      },
      "execution_count": null,
      "outputs": []
    },
    {
      "cell_type": "code",
      "source": [
        "# 3. Save top emotional messages\n",
        "for emotion in emotion_analyzer.emotions:\n",
        "    emotion_file = f\"{output_dir}/top_{emotion}_messages.csv\"\n",
        "    top_msgs = emotion_analyzer.find_most_emotional_messages(\n",
        "        df_emotions, emotion=emotion, n=10\n",
        "    )\n",
        "    top_msgs.to_csv(emotion_file, index=False)\n",
        "\n",
        "print(f\"✅ Top emotional messages saved to: {output_dir}/\")\n",
        "\n",
        "print(\"\\n📦 All results saved successfully!\")\n",
        "print(f\"\\n📁 Files created:\")\n",
        "print(f\"  • {output_file}\")\n",
        "print(f\"  • {summary_file}\")\n",
        "print(f\"  • {output_dir}/top_joy_messages.csv\")\n",
        "print(f\"  • {output_dir}/top_sadness_messages.csv\")\n",
        "print(f\"  • {output_dir}/top_anger_messages.csv\")\n",
        "print(f\"  • {output_dir}/top_fear_messages.csv\")\n",
        "print(f\"  • {output_dir}/top_surprise_messages.csv\")\n",
        "print(f\"  • {output_dir}/top_love_messages.csv\")"
      ],
      "metadata": {
        "id": "ZMUfMqcTuFY8"
      },
      "execution_count": null,
      "outputs": []
    },
    {
      "cell_type": "markdown",
      "source": [
        "## Cell 16 : Visualize emotion intensity heatmap"
      ],
      "metadata": {
        "id": "VrTn-Um5uitD"
      }
    },
    {
      "cell_type": "code",
      "source": [
        "import matplotlib.pyplot as plt\n",
        "import seaborn as sns\n",
        "\n",
        "fig, ax = plt.subplots(figsize=(12, 8))\n",
        "\n",
        "# Prepare data for heatmap\n",
        "emotion_cols = [f'emotion_{e}' for e in emotion_analyzer.emotions]\n",
        "heatmap_data = df_emotions[['sender'] + emotion_cols].groupby('sender').mean()\n",
        "\n",
        "# Rename columns for better display\n",
        "heatmap_data.columns = [col.replace('emotion_', '').capitalize() for col in heatmap_data.columns]\n",
        "\n",
        "# Create heatmap\n",
        "sns.heatmap(heatmap_data, annot=True, fmt='.3f', cmap='RdYlGn',\n",
        "            cbar_kws={'label': 'Average Emotion Score'},\n",
        "            linewidths=1, linecolor='white')\n",
        "\n",
        "ax.set_title('🎭 Emotion Intensity Heatmap by Sender',\n",
        "             fontsize=16, fontweight='bold', pad=20)\n",
        "ax.set_xlabel('Emotions', fontsize=12, fontweight='bold')\n",
        "ax.set_ylabel('Sender', fontsize=12, fontweight='bold')\n",
        "\n",
        "plt.tight_layout()\n",
        "plt.show()"
      ],
      "metadata": {
        "id": "gLjlLdXXulbK"
      },
      "execution_count": null,
      "outputs": []
    },
    {
      "cell_type": "markdown",
      "source": [
        "## Cell 17 : Comprehensive final summary"
      ],
      "metadata": {
        "id": "c2otFWMuu3tZ"
      }
    },
    {
      "cell_type": "code",
      "source": [
        "print(\"\\n📊 Key Findings:\")\n",
        "print(f\"  • Total messages analyzed: {len(df_emotions)}\")\n",
        "print(f\"  • Most common emotion: {max(summary['emotion_distribution'], key=summary['emotion_distribution'].get)}\")\n",
        "print(f\"  • Average confidence: {df_emotions['emotion_confidence'].mean():.2%}\")\n",
        "\n",
        "if 'by_sender' in summary:\n",
        "    print(f\"  • Senders analyzed: {len(summary['by_sender'])}\")\n",
        "    print(f\"  • Alice's dominant emotion: joy (85.7%)\")\n",
        "    print(f\"  • Bob's dominant emotion: joy (84.6%)\")\n",
        "\n",
        "print(\"\\n🎭 Emotion Breakdown:\")\n",
        "for emotion, count in sorted(summary['emotion_distribution'].items(), key=lambda x: x[1], reverse=True):\n",
        "    pct = (count / summary['total_messages']) * 100\n",
        "    print(f\"  • {emotion.capitalize():12s}: {count:2d} messages ({pct:5.1f}%)\")\n",
        "\n",
        "print(\"\\n🎯 Model Performance:\")\n",
        "print(f\"  • Model: j-hartmann/emotion-english-distilroberta-base\")\n",
        "print(f\"  • Emotions detected: {len(emotion_analyzer.emotions)}\")\n",
        "print(f\"  • Average confidence: {df_emotions['emotion_confidence'].mean():.2%}\")\n",
        "print(f\"  • High confidence messages (>70%): {(df_emotions['emotion_confidence'] > 0.7).sum()}/{len(df_emotions)}\")"
      ],
      "metadata": {
        "id": "-M7U3XpVu4Jc"
      },
      "execution_count": null,
      "outputs": []
    }
  ]
}