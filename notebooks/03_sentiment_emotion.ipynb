{
  "nbformat": 4,
  "nbformat_minor": 0,
  "metadata": {
    "colab": {
      "provenance": [],
      "authorship_tag": "ABX9TyOh+a7L/nIJsd+NY7FQpCwM",
      "include_colab_link": true
    },
    "kernelspec": {
      "name": "python3",
      "display_name": "Python 3"
    },
    "language_info": {
      "name": "python"
    }
  },
  "cells": [
    {
      "cell_type": "markdown",
      "metadata": {
        "id": "view-in-github",
        "colab_type": "text"
      },
      "source": [
        "<a href=\"https://colab.research.google.com/github/Sujoy-004/Chat-Analyzer-Pro/blob/main/notebooks/03_sentiment_emotion.ipynb\" target=\"_parent\"><img src=\"https://colab.research.google.com/assets/colab-badge.svg\" alt=\"Open In Colab\"/></a>"
      ]
    },
    {
      "cell_type": "markdown",
      "source": [
        "## Cell 1 : verify environment and available data"
      ],
      "metadata": {
        "id": "4-q18Pj3mWxv"
      }
    },
    {
      "cell_type": "code",
      "source": [
        "import pandas as pd\n",
        "import numpy as np\n",
        "import sys\n",
        "import os\n",
        "from pathlib import Path"
      ],
      "metadata": {
        "id": "XCQUI_euu5TE"
      },
      "execution_count": 3,
      "outputs": []
    },
    {
      "cell_type": "code",
      "source": [
        "try:\n",
        "    # Try to load your processed data\n",
        "    df = pd.read_csv('https://raw.githubusercontent.com/Sujoy-004/Chat-Analyzer-Pro/refs/heads/main/data/processed/example_parsed.csv')\n",
        "    print(\"✅ Successfully loaded your processed chat data!\")\n",
        "    print(f\"Data shape: {df.shape}\")\n",
        "    print(f\"Columns: {list(df.columns)}\")\n",
        "    print()\n",
        "    print(\"Sample data:\")\n",
        "    print(df.head(3).to_string())\n",
        "    print()\n",
        "    print(\"Data types:\")\n",
        "    print(df.dtypes)\n",
        "    print()\n",
        "\n",
        "except Exception as e:\n",
        "    print(f\"❌ Error loading data: {e}\")"
      ],
      "metadata": {
        "colab": {
          "base_uri": "https://localhost:8080/"
        },
        "id": "zcPKr_mvu_e_",
        "outputId": "1599068b-ff85-45e1-f829-3a48d548f3d0"
      },
      "execution_count": 4,
      "outputs": [
        {
          "output_type": "stream",
          "name": "stdout",
          "text": [
            "✅ Successfully loaded your processed chat data!\n",
            "Data shape: (27, 7)\n",
            "Columns: ['datetime', 'sender', 'message', 'date', 'time', 'hour', 'message_length']\n",
            "\n",
            "Sample data:\n",
            "              datetime sender                                                                    message        date      time  hour  message_length\n",
            "0  2023-12-25 09:30:00  Alice                                                        Merry Christmas! 🎄🎅  2023-12-25  09:30:00     9              19\n",
            "1  2023-12-25 09:32:00    Bob                 Merry Christmas to you too! Hope you're having a great day  2023-12-25  09:32:00     9              58\n",
            "2  2023-12-25 09:35:00  Alice  Thanks! Opening presents with family right now Family time is the best ❤️  2023-12-25  09:35:00     9              73\n",
            "\n",
            "Data types:\n",
            "datetime          object\n",
            "sender            object\n",
            "message           object\n",
            "date              object\n",
            "time              object\n",
            "hour               int64\n",
            "message_length     int64\n",
            "dtype: object\n",
            "\n"
          ]
        }
      ]
    },
    {
      "cell_type": "code",
      "source": [
        "# Check for VADER\n",
        "try:\n",
        "    from vaderSentiment.vaderSentiment import SentimentIntensityAnalyzer\n",
        "    print(\"✅ VADER Sentiment is available\")\n",
        "    vader_available = True\n",
        "except ImportError:\n",
        "    print(\"❌ VADER Sentiment not installed\")\n",
        "    vader_available = False"
      ],
      "metadata": {
        "colab": {
          "base_uri": "https://localhost:8080/"
        },
        "id": "r6sRjVKWvCLw",
        "outputId": "f2c250c7-6a91-4bbc-806f-61d877eb01c5"
      },
      "execution_count": 5,
      "outputs": [
        {
          "output_type": "stream",
          "name": "stdout",
          "text": [
            "❌ VADER Sentiment not installed\n"
          ]
        }
      ]
    },
    {
      "cell_type": "code",
      "source": [
        "# Check for TextBlob\n",
        "try:\n",
        "    from textblob import TextBlob\n",
        "    print(\"✅ TextBlob is available\")\n",
        "    textblob_available = True\n",
        "except ImportError:\n",
        "    print(\"❌ TextBlob not installed\")\n",
        "    textblob_available = False"
      ],
      "metadata": {
        "colab": {
          "base_uri": "https://localhost:8080/"
        },
        "id": "cdNd7kCZvGE5",
        "outputId": "07fe0bdf-6a5d-4fee-d04b-1773c4a5228c"
      },
      "execution_count": 6,
      "outputs": [
        {
          "output_type": "stream",
          "name": "stdout",
          "text": [
            "✅ TextBlob is available\n"
          ]
        }
      ]
    },
    {
      "cell_type": "code",
      "source": [
        "# Check for transformers (HuggingFace)\n",
        "try:\n",
        "    from transformers import pipeline\n",
        "    print(\"✅ Transformers (HuggingFace) is available\")\n",
        "    transformers_available = True\n",
        "except ImportError:\n",
        "    print(\"❌ Transformers not installed\")\n",
        "    transformers_available = False"
      ],
      "metadata": {
        "colab": {
          "base_uri": "https://localhost:8080/"
        },
        "id": "J2XWR7XVvLAA",
        "outputId": "b535dfb2-4d5f-4b0e-b769-fddada618459"
      },
      "execution_count": 7,
      "outputs": [
        {
          "output_type": "stream",
          "name": "stdout",
          "text": [
            "✅ Transformers (HuggingFace) is available\n"
          ]
        }
      ]
    },
    {
      "cell_type": "code",
      "source": [
        "# Check for matplotlib and seaborn for visualization\n",
        "try:\n",
        "    import matplotlib.pyplot as plt\n",
        "    import seaborn as sns\n",
        "    print(\"✅ Matplotlib and Seaborn available\")\n",
        "    viz_available = True\n",
        "except ImportError:\n",
        "    print(\"❌ Visualization libraries not available\")\n",
        "    viz_available = False"
      ],
      "metadata": {
        "colab": {
          "base_uri": "https://localhost:8080/"
        },
        "id": "y4RoDHjIvPQ2",
        "outputId": "8d3f46f2-3702-4d01-8c1d-2a4964fc69f1"
      },
      "execution_count": 8,
      "outputs": [
        {
          "output_type": "stream",
          "name": "stdout",
          "text": [
            "✅ Matplotlib and Seaborn available\n"
          ]
        }
      ]
    },
    {
      "cell_type": "markdown",
      "source": [
        "## Cell 2: Install VADER and Import Required Libraries"
      ],
      "metadata": {
        "id": "y8U1YGgQnJNz"
      }
    },
    {
      "cell_type": "code",
      "source": [
        "print(\"Installing VADER Sentiment...\")\n",
        "!pip install vaderSentiment\n",
        "print(\"✅ VADER Sentiment installed\")\n",
        "\n",
        "import pandas as pd\n",
        "import numpy as np\n",
        "import matplotlib.pyplot as plt\n",
        "import seaborn as sns\n",
        "from datetime import datetime\n",
        "import warnings\n",
        "warnings.filterwarnings('ignore')"
      ],
      "metadata": {
        "colab": {
          "base_uri": "https://localhost:8080/"
        },
        "id": "bf62HoxHvcnq",
        "outputId": "c91cce06-37a7-41b5-bbc2-7df5d666cf5c"
      },
      "execution_count": 9,
      "outputs": [
        {
          "output_type": "stream",
          "name": "stdout",
          "text": [
            "Installing VADER Sentiment...\n",
            "Collecting vaderSentiment\n",
            "  Downloading vaderSentiment-3.3.2-py2.py3-none-any.whl.metadata (572 bytes)\n",
            "Requirement already satisfied: requests in /usr/local/lib/python3.12/dist-packages (from vaderSentiment) (2.32.4)\n",
            "Requirement already satisfied: charset_normalizer<4,>=2 in /usr/local/lib/python3.12/dist-packages (from requests->vaderSentiment) (3.4.3)\n",
            "Requirement already satisfied: idna<4,>=2.5 in /usr/local/lib/python3.12/dist-packages (from requests->vaderSentiment) (3.10)\n",
            "Requirement already satisfied: urllib3<3,>=1.21.1 in /usr/local/lib/python3.12/dist-packages (from requests->vaderSentiment) (2.5.0)\n",
            "Requirement already satisfied: certifi>=2017.4.17 in /usr/local/lib/python3.12/dist-packages (from requests->vaderSentiment) (2025.8.3)\n",
            "Downloading vaderSentiment-3.3.2-py2.py3-none-any.whl (125 kB)\n",
            "\u001b[2K   \u001b[90m━━━━━━━━━━━━━━━━━━━━━━━━━━━━━━━━━━━━━━━━\u001b[0m \u001b[32m126.0/126.0 kB\u001b[0m \u001b[31m8.4 MB/s\u001b[0m eta \u001b[36m0:00:00\u001b[0m\n",
            "\u001b[?25hInstalling collected packages: vaderSentiment\n",
            "Successfully installed vaderSentiment-3.3.2\n",
            "✅ VADER Sentiment installed\n"
          ]
        }
      ]
    },
    {
      "cell_type": "code",
      "source": [
        "# Test VADER\n",
        "try:\n",
        "    from vaderSentiment.vaderSentiment import SentimentIntensityAnalyzer\n",
        "    vader_analyzer = SentimentIntensityAnalyzer()\n",
        "    test_text = \"I love this amazing day!\"\n",
        "    vader_result = vader_analyzer.polarity_scores(test_text)\n",
        "    print(\"✅ VADER working:\", vader_result)\n",
        "except Exception as e:\n",
        "    print(f\"❌ VADER error: {e}\")"
      ],
      "metadata": {
        "colab": {
          "base_uri": "https://localhost:8080/"
        },
        "id": "y2dlGvS0vgP_",
        "outputId": "34481362-855d-4d84-a01a-29145838ebb0"
      },
      "execution_count": 10,
      "outputs": [
        {
          "output_type": "stream",
          "name": "stdout",
          "text": [
            "✅ VADER working: {'neg': 0.0, 'neu': 0.25, 'pos': 0.75, 'compound': 0.8748}\n"
          ]
        }
      ]
    },
    {
      "cell_type": "code",
      "source": [
        "# Test TextBlob\n",
        "try:\n",
        "    from textblob import TextBlob\n",
        "    blob = TextBlob(test_text)\n",
        "    print(\"✅ TextBlob working - Polarity:\", blob.sentiment.polarity, \"Subjectivity:\", blob.sentiment.subjectivity)\n",
        "except Exception as e:\n",
        "    print(f\"❌ TextBlob error: {e}\")"
      ],
      "metadata": {
        "colab": {
          "base_uri": "https://localhost:8080/"
        },
        "id": "4x6XWI-NvjZW",
        "outputId": "70bd5c51-5866-46bd-a337-c9afece84966"
      },
      "execution_count": 11,
      "outputs": [
        {
          "output_type": "stream",
          "name": "stdout",
          "text": [
            "✅ TextBlob working - Polarity: 0.625 Subjectivity: 0.75\n"
          ]
        }
      ]
    },
    {
      "cell_type": "code",
      "source": [
        "# Test Transformers (HuggingFace) - this will take time to download\n",
        "try:\n",
        "    from transformers import pipeline\n",
        "    # We'll use a lightweight model for sentiment\n",
        "    print(\"✅ Loading HuggingFace sentiment pipeline...\")\n",
        "    hf_analyzer = pipeline(\"sentiment-analysis\",\n",
        "                          model=\"cardiffnlp/twitter-roberta-base-sentiment-latest\",\n",
        "                          return_all_scores=True)\n",
        "    hf_result = hf_analyzer(test_text)\n",
        "    print(\"✅ HuggingFace working:\", hf_result)\n",
        "except Exception as e:\n",
        "    print(f\"❌ HuggingFace error: {e}\")\n",
        "    print(\"Trying alternative model...\")\n",
        "    try:\n",
        "        hf_analyzer = pipeline(\"sentiment-analysis\", return_all_scores=True)\n",
        "        hf_result = hf_analyzer(test_text)\n",
        "        print(\"✅ HuggingFace (default) working:\", hf_result)\n",
        "    except Exception as e2:\n",
        "        print(f\"❌ HuggingFace (default) error: {e2}\")"
      ],
      "metadata": {
        "colab": {
          "base_uri": "https://localhost:8080/"
        },
        "id": "TeDR-dfWvm5I",
        "outputId": "a9404d88-c6d9-426e-e1e3-8ff1a0ad6ec2"
      },
      "execution_count": 12,
      "outputs": [
        {
          "output_type": "stream",
          "name": "stdout",
          "text": [
            "✅ Loading HuggingFace sentiment pipeline...\n"
          ]
        },
        {
          "output_type": "stream",
          "name": "stderr",
          "text": [
            "Some weights of the model checkpoint at cardiffnlp/twitter-roberta-base-sentiment-latest were not used when initializing RobertaForSequenceClassification: ['roberta.pooler.dense.bias', 'roberta.pooler.dense.weight']\n",
            "- This IS expected if you are initializing RobertaForSequenceClassification from the checkpoint of a model trained on another task or with another architecture (e.g. initializing a BertForSequenceClassification model from a BertForPreTraining model).\n",
            "- This IS NOT expected if you are initializing RobertaForSequenceClassification from the checkpoint of a model that you expect to be exactly identical (initializing a BertForSequenceClassification model from a BertForSequenceClassification model).\n",
            "Device set to use cpu\n"
          ]
        },
        {
          "output_type": "stream",
          "name": "stdout",
          "text": [
            "✅ HuggingFace working: [[{'label': 'negative', 'score': 0.007204313296824694}, {'label': 'neutral', 'score': 0.009917495772242546}, {'label': 'positive', 'score': 0.9828782081604004}]]\n"
          ]
        }
      ]
    },
    {
      "cell_type": "code",
      "source": [
        "df = pd.read_csv('https://raw.githubusercontent.com/Sujoy-004/Chat-Analyzer-Pro/refs/heads/main/data/processed/example_parsed.csv')\n",
        "df['datetime'] = pd.to_datetime(df['datetime'])\n",
        "\n",
        "print(f\"\\n📊 Analyzing {len(df)} messages from {df['sender'].unique()}\")\n",
        "print(f\"Date range: {df['datetime'].min()} to {df['datetime'].max()}\")"
      ],
      "metadata": {
        "colab": {
          "base_uri": "https://localhost:8080/"
        },
        "id": "LsfEZuFwvtqF",
        "outputId": "43a14ff3-aaf4-4463-d0f9-c97b4d8fe00a"
      },
      "execution_count": 13,
      "outputs": [
        {
          "output_type": "stream",
          "name": "stdout",
          "text": [
            "\n",
            "📊 Analyzing 27 messages from ['Alice' 'Bob']\n",
            "Date range: 2023-12-25 09:30:00 to 2023-12-27 08:15:00\n"
          ]
        }
      ]
    },
    {
      "cell_type": "markdown",
      "source": [
        "##  Cell 3: Sentiment Analysis Functions"
      ],
      "metadata": {
        "id": "Toh3VMEyoKrg"
      }
    },
    {
      "cell_type": "code",
      "source": [
        "import pandas as pd\n",
        "import numpy as np\n",
        "import matplotlib.pyplot as plt\n",
        "import seaborn as sns\n",
        "from datetime import datetime, timedelta\n",
        "import warnings\n",
        "warnings.filterwarnings('ignore')"
      ],
      "metadata": {
        "id": "2bP8bOFRv0lp"
      },
      "execution_count": 14,
      "outputs": []
    },
    {
      "cell_type": "code",
      "source": [
        "print(\"📥 Downloading sentiment.py from your repository...\")\n",
        "import requests\n",
        "\n",
        "# Load the sentiment analysis module from GitHub\n",
        "sentiment_code = requests.get('https://raw.githubusercontent.com/Sujoy-004/Chat-Analyzer-Pro/refs/heads/main/src/analysis/sentiment.py').text\n",
        "\n",
        "# Execute the code in the global scope to make functions accessible\n",
        "exec(sentiment_code, globals())"
      ],
      "metadata": {
        "colab": {
          "base_uri": "https://localhost:8080/"
        },
        "id": "JQnmDLgev4OG",
        "outputId": "0e5e3e4b-44e1-452d-afe3-53d5df995cbf"
      },
      "execution_count": 15,
      "outputs": [
        {
          "output_type": "stream",
          "name": "stdout",
          "text": [
            "📥 Downloading sentiment.py from your repository...\n",
            "📊 Sentiment Analysis Module - Chat Analyzer Pro\n",
            "This module provides comprehensive sentiment analysis for chat data\n",
            "Usage: import sentiment; sentiment.quick_sentiment_analysis(df)\n"
          ]
        }
      ]
    },
    {
      "cell_type": "code",
      "source": [
        "print(\"✅ sentiment.py module loaded successfully!\")\n",
        "print(\"🔧 Available functions:\")\n",
        "print(\"  ✅ analyze_vader()\")\n",
        "print(\"  ✅ analyze_textblob()\")\n",
        "print(\"  ✅ analyze_huggingface()\")\n",
        "print(\"  ✅ add_sentiment_analysis()\")\n",
        "print(\"  ✅ get_sentiment_summary()\")\n",
        "print(\"  ✅ plot_sentiment_analysis()\")\n",
        "print(\"  ✅ find_extreme_messages()\")\n",
        "print(\"  ✅ quick_sentiment_analysis()\")\n",
        "print(\"  ✅ initialize_analyzers()\")"
      ],
      "metadata": {
        "colab": {
          "base_uri": "https://localhost:8080/"
        },
        "id": "bkrCyVLov80n",
        "outputId": "b81711d1-cedb-4e90-9671-be4349b217ad"
      },
      "execution_count": 16,
      "outputs": [
        {
          "output_type": "stream",
          "name": "stdout",
          "text": [
            "✅ sentiment.py module loaded successfully!\n",
            "🔧 Available functions:\n",
            "  ✅ analyze_vader()\n",
            "  ✅ analyze_textblob()\n",
            "  ✅ analyze_huggingface()\n",
            "  ✅ add_sentiment_analysis()\n",
            "  ✅ get_sentiment_summary()\n",
            "  ✅ plot_sentiment_analysis()\n",
            "  ✅ find_extreme_messages()\n",
            "  ✅ quick_sentiment_analysis()\n",
            "  ✅ initialize_analyzers()\n"
          ]
        }
      ]
    },
    {
      "cell_type": "code",
      "source": [
        "# Load your test data\n",
        "df = pd.read_csv('https://raw.githubusercontent.com/Sujoy-004/Chat-Analyzer-Pro/refs/heads/main/data/processed/example_parsed.csv')\n",
        "df['datetime'] = pd.to_datetime(df['datetime'])\n",
        "\n",
        "print(f\"\\n📊 Testing on {len(df)} messages from {df['sender'].unique()}\")\n",
        "\n",
        "# Initialize analyzers first before testing individual functions\n",
        "print(\"\\n🔧 Initializing analyzers for individual function testing...\")\n",
        "initialize_analyzers()"
      ],
      "metadata": {
        "colab": {
          "base_uri": "https://localhost:8080/"
        },
        "id": "Ieb9HBGBwFrG",
        "outputId": "a8ca37db-7002-46df-df04-3d5df5354d64"
      },
      "execution_count": 17,
      "outputs": [
        {
          "output_type": "stream",
          "name": "stdout",
          "text": [
            "\n",
            "📊 Testing on 27 messages from ['Alice' 'Bob']\n",
            "\n",
            "🔧 Initializing analyzers for individual function testing...\n",
            "🚀 Initializing Sentiment Analyzers...\n",
            "✅ VADER analyzer loaded\n"
          ]
        },
        {
          "output_type": "stream",
          "name": "stderr",
          "text": [
            "Some weights of the model checkpoint at cardiffnlp/twitter-roberta-base-sentiment-latest were not used when initializing RobertaForSequenceClassification: ['roberta.pooler.dense.bias', 'roberta.pooler.dense.weight']\n",
            "- This IS expected if you are initializing RobertaForSequenceClassification from the checkpoint of a model trained on another task or with another architecture (e.g. initializing a BertForSequenceClassification model from a BertForPreTraining model).\n",
            "- This IS NOT expected if you are initializing RobertaForSequenceClassification from the checkpoint of a model that you expect to be exactly identical (initializing a BertForSequenceClassification model from a BertForSequenceClassification model).\n",
            "Device set to use cpu\n"
          ]
        },
        {
          "output_type": "stream",
          "name": "stdout",
          "text": [
            "✅ HuggingFace analyzer loaded\n",
            "🎯 Sentiment analyzers ready!\n"
          ]
        }
      ]
    },
    {
      "cell_type": "code",
      "source": [
        "sample_messages = [\n",
        "    \"Merry Christmas! 🎄🎅\",\n",
        "    \"That sounds wonderful! I'm cooking dinner for everyone today\",\n",
        "    \"<Media omitted>\",\n",
        "    \"Thanks for sharing your day with me 😊\",\n",
        "    \"Good morning! How was your evening?\"\n",
        "]"
      ],
      "metadata": {
        "id": "D0R6EIRMwvYv"
      },
      "execution_count": 19,
      "outputs": []
    },
    {
      "cell_type": "code",
      "source": [
        "for i, msg in enumerate(sample_messages, 1):\n",
        "    print(f\"\\n📝 Message {i}: '{msg}'\")\n",
        "\n",
        "    # Test VADER\n",
        "    vader_result = analyze_vader(msg)\n",
        "    print(f\"  🔵 VADER: {vader_result['compound']:.3f} ({categorize_sentiment(vader_result['compound'])})\")\n",
        "    print(f\"      Details: pos={vader_result['pos']:.3f}, neu={vader_result['neu']:.3f}, neg={vader_result['neg']:.3f}\")\n",
        "\n",
        "    # Test TextBlob\n",
        "    tb_result = analyze_textblob(msg)\n",
        "    print(f\"  🟠 TextBlob: {tb_result['polarity']:.3f} ({categorize_sentiment(tb_result['polarity'])})\")\n",
        "    print(f\"      Subjectivity: {tb_result['subjectivity']:.3f}\")\n",
        "\n",
        "    # Test HuggingFace\n",
        "    hf_result = analyze_huggingface(msg)\n",
        "    dominant = max(hf_result, key=hf_result.get)\n",
        "    print(f\"  🟢 HuggingFace: {dominant} (confidence: {hf_result[dominant]:.3f})\")\n",
        "    print(f\"      All scores: {hf_result}\")"
      ],
      "metadata": {
        "colab": {
          "base_uri": "https://localhost:8080/"
        },
        "id": "w-pbb8S-wxBA",
        "outputId": "10bd1fe8-50da-4f45-8a4f-321a3a47606f"
      },
      "execution_count": 20,
      "outputs": [
        {
          "output_type": "stream",
          "name": "stdout",
          "text": [
            "\n",
            "📝 Message 1: 'Merry Christmas! 🎄🎅'\n",
            "  🔵 VADER: 0.585 (Positive)\n",
            "      Details: pos=0.431, neu=0.569, neg=0.000\n",
            "  🟠 TextBlob: 0.000 (Neutral)\n",
            "      Subjectivity: 0.000\n",
            "  🟢 HuggingFace: positive (confidence: 0.968)\n",
            "      All scores: {'positive': 0.9682372212409973, 'negative': 0.004698131233453751, 'neutral': 0.027064576745033264}\n",
            "\n",
            "📝 Message 2: 'That sounds wonderful! I'm cooking dinner for everyone today'\n",
            "  🔵 VADER: 0.611 (Positive)\n",
            "      Details: pos=0.333, neu=0.667, neg=0.000\n",
            "  🟠 TextBlob: 1.000 (Positive)\n",
            "      Subjectivity: 1.000\n",
            "  🟢 HuggingFace: positive (confidence: 0.989)\n",
            "      All scores: {'positive': 0.9893565773963928, 'negative': 0.00198520184494555, 'neutral': 0.00865818839520216}\n",
            "\n",
            "📝 Message 3: '<Media omitted>'\n",
            "  🔵 VADER: 0.000 (Neutral)\n",
            "      Details: pos=0.000, neu=1.000, neg=0.000\n",
            "  🟠 TextBlob: 0.000 (Neutral)\n",
            "      Subjectivity: 0.000\n",
            "  🟢 HuggingFace: neutral (confidence: 0.656)\n",
            "      All scores: {'positive': 0.030994487926363945, 'negative': 0.3133400082588196, 'neutral': 0.6556654572486877}\n",
            "\n",
            "📝 Message 4: 'Thanks for sharing your day with me 😊'\n",
            "  🔵 VADER: 0.893 (Positive)\n",
            "      Details: pos=0.594, neu=0.406, neg=0.000\n",
            "  🟠 TextBlob: 0.200 (Positive)\n",
            "      Subjectivity: 0.200\n",
            "  🟢 HuggingFace: positive (confidence: 0.986)\n",
            "      All scores: {'positive': 0.9858407974243164, 'negative': 0.002735719783231616, 'neutral': 0.011423525400459766}\n",
            "\n",
            "📝 Message 5: 'Good morning! How was your evening?'\n",
            "  🔵 VADER: 0.493 (Positive)\n",
            "      Details: pos=0.390, neu=0.610, neg=0.000\n",
            "  🟠 TextBlob: 0.875 (Positive)\n",
            "      Subjectivity: 0.600\n",
            "  🟢 HuggingFace: positive (confidence: 0.929)\n",
            "      All scores: {'positive': 0.9290497899055481, 'negative': 0.0030261173378676176, 'neutral': 0.06792407482862473}\n"
          ]
        }
      ]
    },
    {
      "cell_type": "code",
      "source": [
        "# Test the main analysis function on a small subset\n",
        "print(\"Testing add_sentiment_analysis() on first 5 messages...\")\n",
        "test_df = df.head(5).copy()\n",
        "test_df_analyzed = add_sentiment_analysis(test_df, initialize_first=True)\n",
        "\n",
        "print(f\"\\n📊 Results Summary:\")\n",
        "print(f\"  Original columns: {len(test_df.columns)}\")\n",
        "print(f\"  After analysis: {len(test_df_analyzed.columns)}\")\n",
        "print(f\"  New columns added: {len(test_df_analyzed.columns) - len(test_df.columns)}\")"
      ],
      "metadata": {
        "colab": {
          "base_uri": "https://localhost:8080/"
        },
        "id": "kuFZR7rCxIvI",
        "outputId": "c3876642-bdaa-48f1-b192-1a2dfb8bedc3"
      },
      "execution_count": 22,
      "outputs": [
        {
          "output_type": "stream",
          "name": "stdout",
          "text": [
            "Testing add_sentiment_analysis() on first 5 messages...\n",
            "🚀 Initializing Sentiment Analyzers...\n",
            "✅ VADER analyzer loaded\n"
          ]
        },
        {
          "output_type": "stream",
          "name": "stderr",
          "text": [
            "Some weights of the model checkpoint at cardiffnlp/twitter-roberta-base-sentiment-latest were not used when initializing RobertaForSequenceClassification: ['roberta.pooler.dense.bias', 'roberta.pooler.dense.weight']\n",
            "- This IS expected if you are initializing RobertaForSequenceClassification from the checkpoint of a model trained on another task or with another architecture (e.g. initializing a BertForSequenceClassification model from a BertForPreTraining model).\n",
            "- This IS NOT expected if you are initializing RobertaForSequenceClassification from the checkpoint of a model that you expect to be exactly identical (initializing a BertForSequenceClassification model from a BertForSequenceClassification model).\n",
            "Device set to use cpu\n"
          ]
        },
        {
          "output_type": "stream",
          "name": "stdout",
          "text": [
            "✅ HuggingFace analyzer loaded\n",
            "🎯 Sentiment analyzers ready!\n",
            "🔍 Analyzing sentiment for 5 messages...\n",
            "Running VADER analysis...\n",
            "Running TextBlob analysis...\n",
            "Running HuggingFace analysis...\n",
            "✅ Sentiment analysis complete!\n",
            "\n",
            "📊 Results Summary:\n",
            "  Original columns: 7\n",
            "  After analysis: 20\n",
            "  New columns added: 13\n"
          ]
        }
      ]
    },
    {
      "cell_type": "code",
      "source": [
        "# Show the new columns\n",
        "new_columns = [col for col in test_df_analyzed.columns if col not in test_df.columns]\n",
        "print(f\"\\n✅ New sentiment columns:\")\n",
        "for col in new_columns:\n",
        "    print(f\"    - {col}\")"
      ],
      "metadata": {
        "colab": {
          "base_uri": "https://localhost:8080/"
        },
        "id": "ONguJ6XFxWTO",
        "outputId": "8399229d-e62c-4d95-cf39-aff3ced3e064"
      },
      "execution_count": 23,
      "outputs": [
        {
          "output_type": "stream",
          "name": "stdout",
          "text": [
            "\n",
            "✅ New sentiment columns:\n",
            "    - vader_compound\n",
            "    - vader_pos\n",
            "    - vader_neu\n",
            "    - vader_neg\n",
            "    - vader_sentiment\n",
            "    - textblob_polarity\n",
            "    - textblob_subjectivity\n",
            "    - textblob_sentiment\n",
            "    - hf_positive\n",
            "    - hf_negative\n",
            "    - hf_neutral\n",
            "    - hf_sentiment\n",
            "    - consensus_sentiment\n"
          ]
        }
      ]
    },
    {
      "cell_type": "code",
      "source": [
        "# Test summary function\n",
        "print(f\"\\n📝 Testing get_sentiment_summary()...\")\n",
        "summary = get_sentiment_summary(test_df_analyzed)\n",
        "print(f\"  Summary keys: {list(summary.keys())}\")\n",
        "print(f\"  Sentiment distribution: {summary.get('sentiment_distribution', 'N/A')}\")"
      ],
      "metadata": {
        "colab": {
          "base_uri": "https://localhost:8080/"
        },
        "id": "RW5-_hSuxbdF",
        "outputId": "32d881ff-3e68-4c10-b23e-2ff243a7646e"
      },
      "execution_count": 24,
      "outputs": [
        {
          "output_type": "stream",
          "name": "stdout",
          "text": [
            "\n",
            "📝 Testing get_sentiment_summary()...\n",
            "  Summary keys: ['total_messages', 'sentiment_distribution', 'average_scores', 'by_sender', 'temporal_analysis']\n",
            "  Sentiment distribution: {'Positive': 4, 'Neutral': 1}\n"
          ]
        }
      ]
    },
    {
      "cell_type": "code",
      "source": [
        "# Test extreme messages function\n",
        "print(f\"\\n🎭 Testing find_extreme_messages()...\")\n",
        "extremes = find_extreme_messages(test_df_analyzed, n=2)\n",
        "print(f\"  Found {len(extremes['most_positive'])} most positive messages\")\n",
        "print(f\"  Found {len(extremes['most_negative'])} most negative messages\")"
      ],
      "metadata": {
        "colab": {
          "base_uri": "https://localhost:8080/"
        },
        "id": "YyEvmnj7xeks",
        "outputId": "66197c44-1258-4e2c-ad91-915e7d2da304"
      },
      "execution_count": 25,
      "outputs": [
        {
          "output_type": "stream",
          "name": "stdout",
          "text": [
            "\n",
            "🎭 Testing find_extreme_messages()...\n",
            "  Found 2 most positive messages\n",
            "  Found 2 most negative messages\n"
          ]
        }
      ]
    },
    {
      "cell_type": "markdown",
      "source": [
        "## Cell 4: Full Sentiment Analysis and Visualization"
      ],
      "metadata": {
        "id": "SW3ORoLOoiXf"
      }
    },
    {
      "cell_type": "code",
      "source": [
        "import requests\n",
        "sentiment_code = requests.get('https://raw.githubusercontent.com/Sujoy-004/Chat-Analyzer-Pro/refs/heads/main/src/analysis/sentiment.py').text\n",
        "exec(sentiment_code, globals())\n",
        "\n",
        "print(\"✅ sentiment.py module loaded successfully!\")"
      ],
      "metadata": {
        "colab": {
          "base_uri": "https://localhost:8080/"
        },
        "id": "o_wDyHdFwFEV",
        "outputId": "4b6b639c-779c-476e-9eb9-d72ebd7ace0c"
      },
      "execution_count": 26,
      "outputs": [
        {
          "output_type": "stream",
          "name": "stdout",
          "text": [
            "📊 Sentiment Analysis Module - Chat Analyzer Pro\n",
            "This module provides comprehensive sentiment analysis for chat data\n",
            "Usage: import sentiment; sentiment.quick_sentiment_analysis(df)\n",
            "✅ sentiment.py module loaded successfully!\n"
          ]
        }
      ]
    },
    {
      "cell_type": "code",
      "source": [
        "# Load your data\n",
        "df = pd.read_csv('https://raw.githubusercontent.com/Sujoy-004/Chat-Analyzer-Pro/refs/heads/main/data/processed/example_parsed.csv')\n",
        "df['datetime'] = pd.to_datetime(df['datetime'])\n",
        "\n",
        "print(f\"📊 Analyzing {len(df)} messages from {df['sender'].unique()}\")\n",
        "print(f\"Date range: {df['datetime'].min()} to {df['datetime'].max()}\")"
      ],
      "metadata": {
        "colab": {
          "base_uri": "https://localhost:8080/"
        },
        "id": "la2HaWLZxwzX",
        "outputId": "7a5e752c-790b-4d1a-a77b-84ceeea028c8"
      },
      "execution_count": 27,
      "outputs": [
        {
          "output_type": "stream",
          "name": "stdout",
          "text": [
            "📊 Analyzing 27 messages from ['Alice' 'Bob']\n",
            "Date range: 2023-12-25 09:30:00 to 2023-12-27 08:15:00\n"
          ]
        }
      ]
    },
    {
      "cell_type": "code",
      "source": [
        "df_with_sentiment, summary = quick_sentiment_analysis(df, plot=True)\n",
        "\n",
        "print(\"\\n\" + \"=\"*60)\n",
        "print(\"📈 SENTIMENT ANALYSIS RESULTS\")\n",
        "print(\"=\"*60)\n",
        "\n",
        "print(f\"Total Messages: {summary['total_messages']}\")\n",
        "print(f\"\\n🎭 Overall Sentiment Distribution:\")\n",
        "for sentiment, count in summary['sentiment_distribution'].items():\n",
        "    percentage = (count / summary['total_messages']) * 100\n",
        "    print(f\"  {sentiment}: {count} messages ({percentage:.1f}%)\")\n",
        "\n",
        "print(f\"\\n📊 Average Sentiment Scores:\")\n",
        "for score_type, scores in summary['average_scores'].items():\n",
        "    print(f\"  {score_type}: {scores['mean']:.3f} (min: {scores['min']:.3f}, max: {scores['max']:.3f})\")\n",
        "\n",
        "print(f\"\\n👥 Sentiment by Sender:\")\n",
        "for sender, data in summary['by_sender'].items():\n",
        "    print(f\"  {sender}:\")\n",
        "    print(f\"    Messages: {data['message_count']}\")\n",
        "    for score_type, avg_score in data['avg_scores'].items():\n",
        "        print(f\"    Avg {score_type}: {avg_score:.3f}\")\n",
        "    sentiment_dist = data['sentiment_distribution']\n",
        "    for sent, count in sentiment_dist.items():\n",
        "        pct = (count / data['message_count']) * 100\n",
        "        print(f\"    {sent}: {count} ({pct:.1f}%)\")\n",
        "    print()"
      ],
      "metadata": {
        "colab": {
          "base_uri": "https://localhost:8080/",
          "height": 1000
        },
        "id": "R5c9xs35yJrF",
        "outputId": "7b75ba01-e909-445e-9015-f718f65b1b8f"
      },
      "execution_count": 29,
      "outputs": [
        {
          "output_type": "stream",
          "name": "stdout",
          "text": [
            "🚀 Initializing Sentiment Analyzers...\n",
            "✅ VADER analyzer loaded\n"
          ]
        },
        {
          "output_type": "stream",
          "name": "stderr",
          "text": [
            "Some weights of the model checkpoint at cardiffnlp/twitter-roberta-base-sentiment-latest were not used when initializing RobertaForSequenceClassification: ['roberta.pooler.dense.bias', 'roberta.pooler.dense.weight']\n",
            "- This IS expected if you are initializing RobertaForSequenceClassification from the checkpoint of a model trained on another task or with another architecture (e.g. initializing a BertForSequenceClassification model from a BertForPreTraining model).\n",
            "- This IS NOT expected if you are initializing RobertaForSequenceClassification from the checkpoint of a model that you expect to be exactly identical (initializing a BertForSequenceClassification model from a BertForSequenceClassification model).\n",
            "Device set to use cpu\n"
          ]
        },
        {
          "output_type": "stream",
          "name": "stdout",
          "text": [
            "✅ HuggingFace analyzer loaded\n",
            "🎯 Sentiment analyzers ready!\n",
            "🔍 Analyzing sentiment for 27 messages...\n",
            "Running VADER analysis...\n",
            "Running TextBlob analysis...\n",
            "Running HuggingFace analysis...\n",
            "✅ Sentiment analysis complete!\n"
          ]
        },
        {
          "output_type": "display_data",
          "data": {
            "text/plain": [
              "<Figure size 1500x1000 with 4 Axes>"
            ],
            "image/png": "[encoded data removed]"
          },
          "metadata": {}
        },
        {
          "output_type": "stream",
          "name": "stdout",
          "text": [
            "\n",
            "============================================================\n",
            "📈 SENTIMENT ANALYSIS RESULTS\n",
            "============================================================\n",
            "Total Messages: 27\n",
            "\n",
            "🎭 Overall Sentiment Distribution:\n",
            "  Positive: 21 messages (77.8%)\n",
            "  Neutral: 5 messages (18.5%)\n",
            "  Negative: 1 messages (3.7%)\n",
            "\n",
            "📊 Average Sentiment Scores:\n",
            "  vader_compound: 0.504 (min: 0.000, max: 0.929)\n",
            "  textblob_polarity: 0.378 (min: -0.150, max: 1.000)\n",
            "\n",
            "👥 Sentiment by Sender:\n",
            "  Alice:\n",
            "    Messages: 14\n",
            "    Avg vader_compound: 0.425\n",
            "    Avg textblob_polarity: 0.204\n",
            "    Positive: 10 (71.4%)\n",
            "    Neutral: 3 (21.4%)\n",
            "    Negative: 1 (7.1%)\n",
            "\n",
            "  Bob:\n",
            "    Messages: 13\n",
            "    Avg vader_compound: 0.588\n",
            "    Avg textblob_polarity: 0.566\n",
            "    Positive: 11 (84.6%)\n",
            "    Neutral: 2 (15.4%)\n",
            "\n"
          ]
        }
      ]
    },
    {
      "cell_type": "code",
      "source": [
        "extreme_messages = find_extreme_messages(df_with_sentiment, n=2)\n",
        "\n",
        "print(\"\\n\" + \"=\"*60)\n",
        "print(\"🔍 EXTREME MESSAGES ANALYSIS\")\n",
        "print(\"=\"*60)\n",
        "\n",
        "print(\"🟢 MOST POSITIVE MESSAGES:\")\n",
        "for i, msg_data in enumerate(extreme_messages['most_positive'], 1):\n",
        "    print(f\"  {i}. Sender: {msg_data['sender']}\")\n",
        "    print(f\"     Message: '{msg_data['message']}'\")\n",
        "    print(f\"     VADER Score: {msg_data['vader_score']:.3f}\")\n",
        "    print(f\"     Sentiment: {msg_data['sentiment']}\")\n",
        "    print()\n",
        "\n",
        "print(\"🔴 MOST NEGATIVE MESSAGES:\")\n",
        "for i, msg_data in enumerate(extreme_messages['most_negative'], 1):\n",
        "    print(f\"  {i}. Sender: {msg_data['sender']}\")\n",
        "    print(f\"     Message: '{msg_data['message']}'\")\n",
        "    print(f\"     VADER Score: {msg_data['vader_score']:.3f}\")\n",
        "    print(f\"     Sentiment: {msg_data['sentiment']}\")\n",
        "    print()"
      ],
      "metadata": {
        "colab": {
          "base_uri": "https://localhost:8080/"
        },
        "id": "HvuvX3jwyRnA",
        "outputId": "4c01be38-b37e-45a0-808a-07eae6ebb733"
      },
      "execution_count": 30,
      "outputs": [
        {
          "output_type": "stream",
          "name": "stdout",
          "text": [
            "\n",
            "============================================================\n",
            "🔍 EXTREME MESSAGES ANALYSIS\n",
            "============================================================\n",
            "🟢 MOST POSITIVE MESSAGES:\n",
            "  1. Sender: Alice\n",
            "     Message: 'It definitely will be! Thanks for sharing your day with me 😊'\n",
            "     VADER Score: 0.929\n",
            "     Sentiment: Positive\n",
            "\n",
            "  2. Sender: Bob\n",
            "     Message: 'Merry Christmas to you too! Hope you're having a great day'\n",
            "     VADER Score: 0.895\n",
            "     Sentiment: Positive\n",
            "\n",
            "🔴 MOST NEGATIVE MESSAGES:\n",
            "  1. Sender: Alice\n",
            "     Message: '<Media omitted>'\n",
            "     VADER Score: 0.000\n",
            "     Sentiment: Neutral\n",
            "\n",
            "  2. Sender: Alice\n",
            "     Message: 'Here's our Christmas tree!'\n",
            "     VADER Score: 0.000\n",
            "     Sentiment: Neutral\n",
            "\n"
          ]
        }
      ]
    },
    {
      "cell_type": "code",
      "source": [
        "# Show final data structure\n",
        "print(\"📋 FINAL DATA STRUCTURE:\")\n",
        "print(f\"Shape: {df_with_sentiment.shape}\")\n",
        "print(f\"Sentiment columns added by your module:\")\n",
        "sentiment_columns = [col for col in df_with_sentiment.columns if any(word in col.lower()\n",
        "                    for word in ['vader', 'textblob', 'hf', 'sentiment'])]\n",
        "for col in sentiment_columns:\n",
        "    print(f\"  ✅ {col}\")"
      ],
      "metadata": {
        "colab": {
          "base_uri": "https://localhost:8080/"
        },
        "id": "jJa6ZLAlyauf",
        "outputId": "20d02584-2807-46d1-ba4b-9b7764520441"
      },
      "execution_count": 31,
      "outputs": [
        {
          "output_type": "stream",
          "name": "stdout",
          "text": [
            "📋 FINAL DATA STRUCTURE:\n",
            "Shape: (27, 20)\n",
            "Sentiment columns added by your module:\n",
            "  ✅ vader_compound\n",
            "  ✅ vader_pos\n",
            "  ✅ vader_neu\n",
            "  ✅ vader_neg\n",
            "  ✅ vader_sentiment\n",
            "  ✅ textblob_polarity\n",
            "  ✅ textblob_subjectivity\n",
            "  ✅ textblob_sentiment\n",
            "  ✅ hf_positive\n",
            "  ✅ hf_negative\n",
            "  ✅ hf_neutral\n",
            "  ✅ hf_sentiment\n",
            "  ✅ consensus_sentiment\n"
          ]
        }
      ]
    }
  ]
}